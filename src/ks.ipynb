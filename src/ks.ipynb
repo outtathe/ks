{
  "nbformat": 4,
  "nbformat_minor": 0,
  "metadata": {
    "colab": {
      "provenance": []
    },
    "kernelspec": {
      "name": "python3",
      "display_name": "Python 3"
    },
    "language_info": {
      "name": "python"
    }
  },
  "cells": [
    {
      "cell_type": "code",
      "execution_count": 4,
      "metadata": {
        "id": "nM3Wu40M323G",
        "colab": {
          "base_uri": "https://localhost:8080/"
        },
        "outputId": "cb641fa2-0b55-4fd3-fdd6-a19631caa98b"
      },
      "outputs": [
        {
          "output_type": "stream",
          "name": "stdout",
          "text": [
            "Requirement already satisfied: pandas in /usr/local/lib/python3.10/dist-packages (1.5.3)\n",
            "Requirement already satisfied: matplotlib in /usr/local/lib/python3.10/dist-packages (3.7.1)\n",
            "Requirement already satisfied: numpy in /usr/local/lib/python3.10/dist-packages (1.23.5)\n",
            "Collecting plotly.express\n",
            "  Downloading plotly_express-0.4.1-py2.py3-none-any.whl (2.9 kB)\n",
            "\u001b[31mERROR: Could not find a version that satisfies the requirement plotly.graph_objects (from versions: none)\u001b[0m\u001b[31m\n",
            "\u001b[0m\u001b[31mERROR: No matching distribution found for plotly.graph_objects\u001b[0m\u001b[31m\n",
            "\u001b[0m"
          ]
        }
      ],
      "source": [
        "pip install pandas matplotlib numpy plotly.express plotly.graph_objects"
      ]
    },
    {
      "cell_type": "code",
      "source": [
        "import pandas as pd\n",
        "import matplotlib.pyplot as plt\n",
        "import numpy as np\n",
        "import plotly.express as px\n",
        "import plotly.graph_objects as go\n",
        "\n",
        "# Импорт нужных библиотек:\n",
        "# pandas для работы с файлом,\n",
        "# matplotlib & seaborn для отрисовки графиков\n",
        "# numpy для вычислений\n",
        "# plotly для графиков но покруче - возможность взаимодействовать с графиком"
      ],
      "metadata": {
        "id": "qyPjHgtk5x-p"
      },
      "execution_count": 5,
      "outputs": []
    },
    {
      "cell_type": "markdown",
      "source": [
        "# №1 Импорт данных из 3 файлов"
      ],
      "metadata": {
        "id": "Og1x48L1mYrQ"
      }
    },
    {
      "cell_type": "code",
      "source": [
        "input_file_1 = '/content/AB_NYC_2019.csv'\n",
        "input_file_2 = '/content/airbnb_last_review.csv'\n",
        "input_file_3 = '/content/airbnb_room_type.xlsx'\n",
        "\n",
        "ab_nyc = pd.read_csv(input_file_1)\n",
        "airbnb_last_review = pd.read_csv(input_file_2)\n",
        "airbnb_room_type = pd.read_excel(input_file_3)"
      ],
      "metadata": {
        "id": "EurUzzyVCG5G"
      },
      "execution_count": 6,
      "outputs": []
    },
    {
      "cell_type": "markdown",
      "source": [
        "- проверка, вывод файлов:"
      ],
      "metadata": {
        "id": "HibZebL_nTcE"
      }
    },
    {
      "cell_type": "code",
      "source": [
        "ab_nyc"
      ],
      "metadata": {
        "id": "JVV9snqbnLBM"
      },
      "execution_count": null,
      "outputs": []
    },
    {
      "cell_type": "code",
      "source": [
        "airbnb_last_review"
      ],
      "metadata": {
        "id": "o-JRCrhMnOMm"
      },
      "execution_count": null,
      "outputs": []
    },
    {
      "cell_type": "code",
      "source": [
        "airbnb_room_type"
      ],
      "metadata": {
        "id": "tXD-yJY6nQvL"
      },
      "execution_count": null,
      "outputs": []
    },
    {
      "cell_type": "markdown",
      "source": [
        "# №2 Очистка данных в колонке цена (price)"
      ],
      "metadata": {
        "id": "Oo1ijwlJn4ZS"
      }
    },
    {
      "cell_type": "code",
      "source": [
        "# создание переменной, в которую запишем путь по которому соханим очищенный файл\n",
        "output_file_path = '/content/AB_NYC_2019_with_no_price.csv'\n",
        "\n",
        "# Запишем данные из CSV файла в новую переменную, для удобства\n",
        "data = pd.read_csv(input_file_1)\n",
        "\n",
        "# Очистка данных в колонке \"Price\"\n",
        "data['price'] = None\n",
        "\n",
        "# Сохранение очищенных данных в новом файле\n",
        "data.to_csv(output_file_path, index=False)\n",
        "\n",
        "print(f\"Очищенный файл без колонки price сохранен по пути: {output_file_path}\")"
      ],
      "metadata": {
        "id": "q-cCypgtIi4C"
      },
      "execution_count": null,
      "outputs": []
    },
    {
      "cell_type": "markdown",
      "source": [
        "- проверка, вывод пустой колонки"
      ],
      "metadata": {
        "id": "bkZq7JKZoh9B"
      }
    },
    {
      "cell_type": "code",
      "source": [
        "# Чтение файла с пустой колонкой\n",
        "check = pd.read_csv(output_file_path)"
      ],
      "metadata": {
        "id": "4JQ1bqnaoqVv"
      },
      "execution_count": 11,
      "outputs": []
    },
    {
      "cell_type": "code",
      "source": [
        "# Вывод колонки price для проверки\n",
        "check['price']"
      ],
      "metadata": {
        "id": "cY0DM9ueo31K"
      },
      "execution_count": null,
      "outputs": []
    },
    {
      "cell_type": "markdown",
      "source": [
        "# №3 Расчет средней цены"
      ],
      "metadata": {
        "id": "6DYacaUmpSlt"
      }
    },
    {
      "cell_type": "code",
      "source": [
        "# Подсчет среднего значения в колонке price\n",
        "avg_price = ab_nyc['price'].mean()\n",
        "\n",
        "# Вывод подсчитанного значения\n",
        "print(f\"Средняя цена: {avg_price:.2f}\")"
      ],
      "metadata": {
        "id": "IlHZomt2pcgA"
      },
      "execution_count": null,
      "outputs": []
    },
    {
      "cell_type": "markdown",
      "source": [
        "# №4 Сравнение затрат на рынке аренды"
      ],
      "metadata": {
        "id": "wbXFng4Sq0Y3"
      }
    },
    {
      "cell_type": "code",
      "source": [
        "# Расчет математического ожидания и стандартного отклонения по ценам\n",
        "mean_price = ab_nyc['price'].mean()\n",
        "std_dev_price = ab_nyc['price'].std()"
      ],
      "metadata": {
        "id": "_DR7ybzoqzd7"
      },
      "execution_count": 14,
      "outputs": []
    },
    {
      "cell_type": "code",
      "source": [
        "# Нахождение самой дорогой комнаты\n",
        "most_expensive_room = ab_nyc.loc[ab_nyc['price'].idxmax()]"
      ],
      "metadata": {
        "id": "R4AUGqFes4FV"
      },
      "execution_count": 15,
      "outputs": []
    },
    {
      "cell_type": "code",
      "source": [
        "# Нахождение самой дешевой комнаты\n",
        "cheapest_room = ab_nyc.loc[ab_nyc['price'].idxmin()]"
      ],
      "metadata": {
        "id": "Brw9a9FLs7fS"
      },
      "execution_count": 16,
      "outputs": []
    },
    {
      "cell_type": "code",
      "source": [
        "# Рассчитаем процент цен, которые входят в правило трёх сигм\n",
        "within_3std = ((ab_nyc['price'] >= mean_price - 3 * std_dev_price) & (ab_nyc['price'] <= mean_price + 3 * std_dev_price)).mean() * 100"
      ],
      "metadata": {
        "id": "Pw-0-ehPtNeP"
      },
      "execution_count": 17,
      "outputs": []
    },
    {
      "cell_type": "code",
      "source": [
        "# Вывод результатов\n",
        "print(f\"Математическое ожидание цен: ${mean_price:.2f}\") # .2f -  2 знака после запятой\n",
        "print(f\"Стандартное отклонение цен: ${std_dev_price:.2f}\")\n",
        "print(\"----------------------------------------------------------------------\")\n",
        "print(\"Самая дорогая комната:\\n\", most_expensive_room)\n",
        "print(\"----------------------------------------------------------------------\")\n",
        "print(\"Самая дешевая комната:\\n\", cheapest_room)\n",
        "print(\"----------------------------------------------------------------------\")\n",
        "print(f\"Процент цен, укладывающихся в правило трех сигм: {within_3std:.2f}%\")"
      ],
      "metadata": {
        "id": "31ry2mFluZBA"
      },
      "execution_count": null,
      "outputs": []
    },
    {
      "cell_type": "code",
      "source": [
        "# Настройка параметров гистограммы\n",
        "plt.xlabel('Цена')\n",
        "plt.ylabel('Частота')\n",
        "plt.xlim(0, 1000)\n",
        "plt.hist(ab_nyc['price'], bins=2000, color='orange')\n",
        "plt.show()"
      ],
      "metadata": {
        "id": "ZDeB-_w9MMDq"
      },
      "execution_count": null,
      "outputs": []
    },
    {
      "cell_type": "markdown",
      "source": [
        "# №5 Очистка данных в колонке room type"
      ],
      "metadata": {
        "id": "R525U8znztwO"
      }
    },
    {
      "cell_type": "code",
      "source": [
        "# создание переменной, в которую запишем путь по которому соханим очищенный файл\n",
        "new_output_file_path = '/content/AB_NYC_2019_with_no_room_type.csv'\n",
        "\n",
        "# Запишем данные из CSV файла в новую переменную, для удобства\n",
        "roomType = pd.read_csv(input_file_1)\n",
        "\n",
        "# Очистка данных в нужной колонке\n",
        "roomType['room_type'] = None\n",
        "\n",
        "# Сохранение данных без содержимого колонки room_type в новый файл\n",
        "roomType.to_csv(new_output_file_path, index=False)\n",
        "print(f\"Очищенный файл без колонки room_type сохранен по пути: {new_output_file_path}\")"
      ],
      "metadata": {
        "id": "7AVWxosUz55Z"
      },
      "execution_count": null,
      "outputs": []
    },
    {
      "cell_type": "markdown",
      "source": [
        "- проверка, вывод пустой колонки"
      ],
      "metadata": {
        "id": "H0DypNTc0NKN"
      }
    },
    {
      "cell_type": "code",
      "source": [
        "new_check = pd.read_csv(new_output_file_path)"
      ],
      "metadata": {
        "id": "iERGcD7SrFDX"
      },
      "execution_count": 21,
      "outputs": []
    },
    {
      "cell_type": "code",
      "source": [
        "new_check['room_type']"
      ],
      "metadata": {
        "id": "iugf506D0Vnq"
      },
      "execution_count": null,
      "outputs": []
    },
    {
      "cell_type": "markdown",
      "source": [
        "# №6 C какими сроками идет работа"
      ],
      "metadata": {
        "id": "R0L5Snbz0Z9s"
      }
    },
    {
      "cell_type": "code",
      "source": [
        "# Вывод информации по Last_review\n",
        "print(\"\\nИнформация по Last_review:\")\n",
        "print(ab_nyc['last_review'].describe(datetime_is_numeric=True))"
      ],
      "metadata": {
        "id": "3RBKg-pu0kHR"
      },
      "execution_count": null,
      "outputs": []
    },
    {
      "cell_type": "code",
      "source": [
        "# Преобразование Last_review в datetime\n",
        "ab_nyc['last_review'] = pd.to_datetime(data['last_review'])\n",
        "\n",
        "# Настройка гистограммы для вывода информации по колонке last_review\n",
        "fig = px.histogram(ab_nyc['last_review'])\n",
        "fig.update_layout(\n",
        "    xaxis_title=\"Дата\",\n",
        "    yaxis_title=\"Частота\",\n",
        ")\n",
        "# log для наглядности\n",
        "fig.update_yaxes(type=\"log\")\n",
        "fig.show()"
      ],
      "metadata": {
        "id": "55TDuBx50uPy"
      },
      "execution_count": null,
      "outputs": []
    },
    {
      "cell_type": "code",
      "source": [
        "# Вывод базовой информации по Minimum_nights\n",
        "print(\"Статистика по Minimum_nights:\")\n",
        "print(ab_nyc['minimum_nights'].describe())"
      ],
      "metadata": {
        "id": "T0pz7xKn1_eK"
      },
      "execution_count": null,
      "outputs": []
    },
    {
      "cell_type": "code",
      "source": [
        "# Настройка гистограммы для минимального количества ночей\n",
        "fig = go.Figure()\n",
        "axis1 = fig.add_trace(go.Histogram(x=ab_nyc[ab_nyc['minimum_nights']<15]['minimum_nights'], name = 'minimum_nights < 15'))\n",
        "axis2 = fig.add_trace(go.Histogram(x=ab_nyc[(ab_nyc['minimum_nights']>15) & (ab_nyc['minimum_nights']<88)]['minimum_nights'], name = 'minimum_nights > 15'))\n",
        "fig.update_layout(xaxis_title=\"Минимальное количество дней\", yaxis_title = \"Частота\")\n",
        "fig.show()\n"
      ],
      "metadata": {
        "id": "BlcP2G3IO-4A"
      },
      "execution_count": null,
      "outputs": []
    },
    {
      "cell_type": "code",
      "source": [
        "# Статистика по колонке minimum_nights со знчаениями больше 15 (среднее между 1 и 30)\n",
        "ab_nyc[(ab_nyc['minimum_nights']>15)]['minimum_nights'].describe()"
      ],
      "metadata": {
        "id": "Efz54vri19jD"
      },
      "execution_count": null,
      "outputs": []
    },
    {
      "cell_type": "markdown",
      "source": [
        "# №7 Объедините датафреймы"
      ],
      "metadata": {
        "id": "clfEWBO73FfR"
      }
    },
    {
      "cell_type": "code",
      "source": [
        "\"\"\"\n",
        "id | name | mark\n",
        "1  | sasha| 3\n",
        "2  | vova | 4\n",
        "\n",
        "\n",
        "\n",
        "id | group | mark\n",
        "1  | 2.    | 3\n",
        "3  | 2.    | 5\n",
        "\n",
        "\n",
        "id | name | mark | group\n",
        "1  | sasha| 3.   | 2\n",
        "2  | vova | 4.   | null\n",
        "3  | null |2.    | 5\n",
        "\n",
        "\"\"\""
      ],
      "metadata": {
        "id": "GjLRbFhS6kj6"
      },
      "execution_count": null,
      "outputs": []
    },
    {
      "cell_type": "code",
      "source": [
        "# объединяем датафреймы airbnb_room_type и airbnb_last_review в один по колонке listing_id\n",
        "merged_one = pd.merge(airbnb_last_review, airbnb_room_type, on='listing_id', how='inner')"
      ],
      "metadata": {
        "id": "MwmyiEAg3vfp"
      },
      "execution_count": 29,
      "outputs": []
    },
    {
      "cell_type": "code",
      "source": [
        "merged_one"
      ],
      "metadata": {
        "id": "DErSo_iQMQQV"
      },
      "execution_count": null,
      "outputs": []
    },
    {
      "cell_type": "code",
      "source": [
        "# объединяем уже соединенный фрейм с ab_nyc по колонке listing_id\n",
        "final_merge = pd.merge(merged_one, ab_nyc, left_on='listing_id', right_on='id', how='inner')"
      ],
      "metadata": {
        "id": "vf52OiN3NZO-"
      },
      "execution_count": 33,
      "outputs": []
    },
    {
      "cell_type": "code",
      "source": [
        "final_merge"
      ],
      "metadata": {
        "id": "kZXUn-MYczGK"
      },
      "execution_count": null,
      "outputs": []
    },
    {
      "cell_type": "code",
      "source": [
        "airbnb_room_type"
      ],
      "metadata": {
        "id": "5fmO7hpPQBXk"
      },
      "execution_count": null,
      "outputs": []
    },
    {
      "cell_type": "code",
      "source": [
        "airbnb_last_review"
      ],
      "metadata": {
        "id": "jZ6koiWy8fBN"
      },
      "execution_count": null,
      "outputs": []
    },
    {
      "cell_type": "code",
      "source": [
        "ab_nyc"
      ],
      "metadata": {
        "id": "mUvryOxkLCof"
      },
      "execution_count": null,
      "outputs": []
    },
    {
      "cell_type": "code",
      "source": [
        "# Сравнение колонки id в таблице AB_NYC и listing_id в таблице airbnb_last_review\n",
        "ab_nyc['id'].equals(airbnb_last_review['listing_id'])"
      ],
      "metadata": {
        "id": "ci_mfPwtZxi3"
      },
      "execution_count": null,
      "outputs": []
    },
    {
      "cell_type": "code",
      "source": [
        "# Сравнение колонки id в таблице AB_NYC и listing_id в таблице airbnb_room_type\n",
        "ab_nyc['id'].equals(airbnb_room_type['listing_id'])"
      ],
      "metadata": {
        "id": "gGNxchu07iX2"
      },
      "execution_count": null,
      "outputs": []
    },
    {
      "cell_type": "markdown",
      "source": [
        "# №8 Анализ цен по различным районам"
      ],
      "metadata": {
        "id": "2IFEYNbZ99Ve"
      }
    },
    {
      "cell_type": "code",
      "source": [
        "# Анализ цен по различным районам\n",
        "average_prices_by_neighbourhood = ab_nyc.groupby('neighbourhood')['price'].mean()"
      ],
      "metadata": {
        "id": "pdi_aWPdkJgJ"
      },
      "execution_count": null,
      "outputs": []
    },
    {
      "cell_type": "code",
      "source": [
        "# Вывод результатов с названиями районов\n",
        "print(\"Средние цены по районам:\")\n",
        "for neighbourhood, average_price in average_prices_by_neighbourhood.items():\n",
        "    print(f\"{neighbourhood}: {average_price:.2f}\")"
      ],
      "metadata": {
        "id": "wQRaLTJd-c8X"
      },
      "execution_count": null,
      "outputs": []
    },
    {
      "cell_type": "markdown",
      "source": [
        "# №8 Ранжирование цен по различным районам"
      ],
      "metadata": {
        "id": "cBU9fi44-HjB"
      }
    },
    {
      "cell_type": "code",
      "source": [
        "# Ранжирование цен по районам\n",
        "ranked_prices_by_neighbourhood = average_prices_by_neighbourhood.sort_values()"
      ],
      "metadata": {
        "id": "m3ssQPz6-Ojk"
      },
      "execution_count": 42,
      "outputs": []
    },
    {
      "cell_type": "code",
      "source": [
        "print(\"\\nРанжирование цен по районам:\")\n",
        "for neighbourhood, average_price in ranked_prices_by_neighbourhood.items():\n",
        "    print(f\"{neighbourhood}: {average_price:.2f}\")"
      ],
      "metadata": {
        "id": "0Imp6FyF-cRu"
      },
      "execution_count": null,
      "outputs": []
    }
  ]
}