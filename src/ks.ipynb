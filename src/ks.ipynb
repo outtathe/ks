{
  "cells": [
    {
      "cell_type": "code",
      "execution_count": null,
      "metadata": {
        "id": "nM3Wu40M323G"
      },
      "outputs": [],
      "source": [
        "pip install pandas\n"
      ]
    },
    {
      "cell_type": "code",
      "execution_count": null,
      "metadata": {
        "id": "XAxu0ba5JodC"
      },
      "outputs": [],
      "source": [
        "pip install seaborn"
      ]
    },
    {
      "cell_type": "code",
      "execution_count": 218,
      "metadata": {
        "id": "qyPjHgtk5x-p"
      },
      "outputs": [],
      "source": [
        "import pandas as pd\n",
        "import matplotlib.pyplot as plt\n",
        "import seaborn as sns\n",
        "from scipy.stats import norm\n",
        "import numpy as np\n",
        "import plotly.express as px\n",
        "import plotly.graph_objects as go\n",
        "\n",
        "# Импорт нужных библиотек:\n",
        "# pandas для работы с файлом,\n",
        "# matplotlib & seaborn для отрисовки графиков,\n",
        "# scipy.stats для проверки нормального распределения\n",
        "# numpy просто так вдруг понадобится\n",
        "# plotly для графиков но покруче"
      ]
    },
    {
      "cell_type": "code",
      "execution_count": 219,
      "metadata": {
        "id": "EurUzzyVCG5G"
      },
      "outputs": [],
      "source": [
        "\"\"\"импорт данных из трех файлов\"\"\"\n",
        "input_file_1 = '/content/AB_NYC_2019.csv'\n",
        "input_file_2 = '/content/airbnb_last_review.csv'\n",
        "input_file_3 = '/content/airbnb_room_type.xlsx'\n",
        "\n",
        "ab_nyc = pd.read_csv(input_file_1)\n",
        "airbnb_last_review = pd.read_csv(input_file_2)\n",
        "airbnb_room_type = pd.read_excel(input_file_3)"
      ]
    },
    {
      "cell_type": "code",
      "execution_count": null,
      "metadata": {
        "id": "2LKv1iqmEp5c"
      },
      "outputs": [],
      "source": [
        "\"\"\"Вывод всех трех файлов\"\"\"\n",
        "\n",
        "print(ab_nyc)\n",
        "print(\"##################################\")\n",
        "print(airbnb_last_review)\n",
        "print(\"##################################\")\n",
        "print(airbnb_room_type)"
      ]
    },
    {
      "cell_type": "code",
      "execution_count": null,
      "metadata": {
        "id": "q-cCypgtIi4C"
      },
      "outputs": [],
      "source": [
        "\"\"\"Очистка данных в колонке цена\"\"\"\n",
        "\n",
        "# Загрузка данных из CSV файла\n",
        "input_file_path = '/content/AB_NYC_2019.csv'\n",
        "output_file_path = '/content/AB_NYC_2019_with_no_price.csv'\n",
        "\n",
        "# Чтение данных из CSV файла\n",
        "data = pd.read_csv(input_file_path)\n",
        "\n",
        "# Очистка данных в колонке \"Price\"\n",
        "data['price'] = None\n",
        "\n",
        "# Сохранение очищенных данных в новом файле\n",
        "data.to_csv(output_file_path, index=False)\n",
        "\n",
        "print(f\"Очищенный файл без колонки price сохранен по пути: {output_file_path}\")"
      ]
    },
    {
      "cell_type": "code",
      "execution_count": null,
      "metadata": {
        "id": "lPsSpLVgMssW"
      },
      "outputs": [],
      "source": [
        "\"\"\"проверка!\"\"\"\n",
        "\n",
        "file_path = '/content/AB_NYC_2019_with_no_price.csv'\n",
        "check = pd.read_csv(file_path)\n",
        "print(check['price'])"
      ]
    },
    {
      "cell_type": "code",
      "execution_count": 14,
      "metadata": {
        "id": "PUj2t6e0UdUz"
      },
      "outputs": [],
      "source": [
        "new_data = pd.read_csv(input_file_path) # Повторное чтение исходника для дальнейшей работы"
      ]
    },
    {
      "cell_type": "code",
      "execution_count": null,
      "metadata": {
        "id": "zh0GhOLeTuw0"
      },
      "outputs": [],
      "source": [
        "\"\"\" Расчет средней цены \"\"\"\n",
        "avg_price = new_data['price'].mean() # подсчет среднего значения колонки\n",
        "print(\"Средняя цена: \", avg_price)"
      ]
    },
    {
      "cell_type": "code",
      "execution_count": null,
      "metadata": {
        "id": "ZDeB-_w9MMDq"
      },
      "outputs": [],
      "source": [
        "\"\"\" Сравнение затрат на рынке аренды \"\"\"\n",
        "\n",
        "# Расчет математического ожидания и стандартного отклонения\n",
        "mean_price = new_data['price'].mean()\n",
        "std_dev_price = new_data['price'].std()\n",
        "\n",
        "# Расчет процента цен, укладывающихся в правило трех сигм\n",
        "\n",
        "within_3std = ((new_data['price'] >= mean_price - 3 * std_dev_price) & (new_data['price'] <= mean_price + 3 * std_dev_price)).mean() * 100\n",
        "\n",
        "print(f\"Математическое ожидание цен: ${mean_price:.2f}\") # .2f -  2 знака после запятой\n",
        "print(f\"Стандартное отклонение цен: ${std_dev_price:.2f}\")\n",
        "print(f\"Процент цен, укладывающихся в правило трех сигм: {within_3std:.2f}%\")\n",
        "\n",
        "# Настройка параметров гистограммы\n",
        "\n",
        "plt.xlabel('Цена')\n",
        "plt.ylabel('Частота')\n",
        "plt.xlim(0, 1000)\n",
        "plt.hist(new_data['price'], bins=2000, color='orange')\n",
        "plt.show()"
      ]
    },
    {
      "cell_type": "code",
      "execution_count": null,
      "metadata": {
        "id": "_vtKaxcxq4C6"
      },
      "outputs": [],
      "source": [
        "\"\"\" Очистка данных в колонке room type \"\"\"\n",
        "\n",
        "# Чтение данных из csv файла\n",
        "new_output_file_path = \"/content/AB_NYC_2019_with_no_room_type.csv\"\n",
        "roomType = pd.read_csv(input_file_path)\n",
        "\n",
        "# Очистка данных в нужной колонке\n",
        "roomType['room_type'] = None\n",
        "\n",
        "# Сохранение данных без содержимого колонки room_type в новый файл\n",
        "roomType.to_csv(new_output_file_path, index=False)\n",
        "print(f\"Очищенный файл без колонки room_type сохранен по пути: {new_output_file_path}\")"
      ]
    },
    {
      "cell_type": "code",
      "execution_count": null,
      "metadata": {
        "id": "iERGcD7SrFDX"
      },
      "outputs": [],
      "source": [
        "\"\"\" проверка \"\"\"\n",
        "new_check = pd.read_csv(new_output_file_path)\n",
        "print(new_check['room_type'])"
      ]
    },
    {
      "cell_type": "code",
      "execution_count": null,
      "metadata": {
        "id": "3nkXPPlEH-XS"
      },
      "outputs": [],
      "source": [
        "\"\"\" C какими сроками идет работа \"\"\"\n",
        "\n",
        "# Вывод информации по Last_review\n",
        "print(\"\\nИнформация по Last_review:\")\n",
        "print(ab_nyc['last_review'].describe(datetime_is_numeric=True))\n",
        "\n",
        "# Преобразование Last_review в datetime\n",
        "ab_nyc['last_review'] = pd.to_datetime(data['last_review'])\n",
        "# Преобразование в логарифмический формат для большей наглядности данных\n",
        "fig = px.histogram(ab_nyc['last_review'])\n",
        "fig.update_layout(\n",
        "    xaxis_title=\"Частота\",\n",
        "    yaxis_title=\"Дата\",\n",
        ")\n",
        "fig.update_yaxes(type=\"log\")\n",
        "fig.show()\n"
      ]
    },
    {
      "cell_type": "code",
      "execution_count": null,
      "metadata": {
        "id": "BlcP2G3IO-4A"
      },
      "outputs": [],
      "source": [
        "# Вывод базовой информации по Minimum_nights\n",
        "print(\"Статистика по Minimum_nights:\")\n",
        "print(ab_nyc['minimum_nights'].describe())\n",
        "\n",
        "# Настройка гистограммы для минимального количества ночей\n",
        "fig = go.Figure()\n",
        "axis1 = fig.add_trace(go.Histogram(x=ab_nyc[ab_nyc['minimum_nights']<15]['minimum_nights'], name = 'minimum_nights < 15'))\n",
        "axis2 = fig.add_trace(go.Histogram(x=ab_nyc[(ab_nyc['minimum_nights']>15) & (ab_nyc['minimum_nights']<88)]['minimum_nights'], name = 'minimum_nights > 15'))\n",
        "fig.update_layout(xaxis_title=\"Минимальное количество дней\", yaxis_title = \"Частота\")\n",
        "fig.show()\n",
        "\n",
        "# ab_nyc[(ab_nyc['minimum_nights']>15)]['minimum_nights'].describe()"
      ]
    },
    {
      "cell_type": "code",
      "execution_count": 221,
      "metadata": {
        "id": "gy3VCbZXhkx5"
      },
      "outputs": [],
      "source": [
        "\"\"\" Объединение датафреймов \"\"\"\n",
        "\n",
        "# объединяем датафреймы airbnb_room_type и airbnb_last_review в один по колонке listing_id\n",
        "merged_one = pd.merge(airbnb_last_review, airbnb_room_type, on='listing_id', how='inner')"
      ]
    },
    {
      "cell_type": "code",
      "execution_count": null,
      "metadata": {
        "id": "vf52OiN3NZO-"
      },
      "outputs": [],
      "source": [
        "# объединяем уже соединенный фрейм с ab_nyc по колонке listing_id\n",
        "final_merge = pd.merge(merged_one, ab_nyc, left_on='listing_id', right_on='id', how='inner')"
      ]
    },
    {
      "cell_type": "code",
      "execution_count": null,
      "metadata": {
        "id": "DErSo_iQMQQV"
      },
      "outputs": [],
      "source": [
        "merged_one"
      ]
    },
    {
      "cell_type": "code",
      "execution_count": null,
      "metadata": {
        "id": "kZXUn-MYczGK"
      },
      "outputs": [],
      "source": [
        "final_merge"
      ]
    },
    {
      "cell_type": "code",
      "execution_count": 230,
      "metadata": {
        "id": "j_IYuY2VduIi"
      },
      "outputs": [],
      "source": [
        "final = final_merge.drop_duplicates(subset='id')"
      ]
    },
    {
      "cell_type": "code",
      "execution_count": 231,
      "metadata": {
        "colab": {
          "base_uri": "https://localhost:8080/"
        },
        "id": "BLKDEuOJeE3v",
        "outputId": "6e4eb9b4-bfa9-4707-b74a-390e85bdfe31"
      },
      "outputs": [
        {
          "name": "stdout",
          "output_type": "stream",
          "text": [
            "True\n"
          ]
        }
      ],
      "source": [
        "print(final['listing_id'].equals(final_merge['listing_id']))"
      ]
    },
    {
      "cell_type": "code",
      "execution_count": 212,
      "metadata": {
        "colab": {
          "base_uri": "https://localhost:8080/"
        },
        "id": "ci_mfPwtZxi3",
        "outputId": "babd8fd2-dc64-441d-dac1-872aa06609a4"
      },
      "outputs": [
        {
          "name": "stdout",
          "output_type": "stream",
          "text": [
            "False\n"
          ]
        }
      ],
      "source": [
        "is_equal = ab_nyc['listing_id'].equals(airbnb_room_type['listing_id'])\n",
        "print(is_equal)"
      ]
    }
  ],
  "metadata": {
    "colab": {
      "provenance": []
    },
    "kernelspec": {
      "display_name": "Python 3",
      "name": "python3"
    },
    "language_info": {
      "name": "python",
      "version": "3.11.5"
    }
  },
  "nbformat": 4,
  "nbformat_minor": 0
}
