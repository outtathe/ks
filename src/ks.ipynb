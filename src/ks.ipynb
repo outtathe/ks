{
  "nbformat": 4,
  "nbformat_minor": 0,
  "metadata": {
    "colab": {
      "provenance": []
    },
    "kernelspec": {
      "name": "python3",
      "display_name": "Python 3"
    },
    "language_info": {
      "name": "python"
    }
  },
  "cells": [
    {
      "cell_type": "code",
      "execution_count": null,
      "metadata": {
        "id": "nM3Wu40M323G"
      },
      "outputs": [],
      "source": [
        "pip install pandas\n"
      ]
    },
    {
      "cell_type": "code",
      "source": [
        "pip install seaborn"
      ],
      "metadata": {
        "id": "XAxu0ba5JodC"
      },
      "execution_count": null,
      "outputs": []
    },
    {
      "cell_type": "code",
      "source": [
        "import pandas as pd\n",
        "import matplotlib.pyplot as plt\n",
        "import seaborn as sns\n",
        "from scipy.stats import norm\n",
        "import numpy as np\n",
        "import plotly.express as px\n",
        "import plotly.graph_objects as go\n",
        "\n",
        "# Импорт нужных библиотек:\n",
        "# pandas для работы с файлом,\n",
        "# matplotlib & seaborn для отрисовки графиков,\n",
        "# scipy.stats для проверки нормального распределения\n",
        "# numpy просто так вдруг понадобится\n",
        "# plotly для графиков но покруче"
      ],
      "metadata": {
        "id": "qyPjHgtk5x-p"
      },
      "execution_count": 1,
      "outputs": []
    },
    {
      "cell_type": "code",
      "source": [
        "\"\"\"импорт данных из трех файлов\"\"\"\n",
        "input_file_1 = '/content/AB_NYC_2019.csv'\n",
        "input_file_2 = '/content/airbnb_last_review.csv'\n",
        "input_file_3 = '/content/airbnb_room_type.xlsx'\n",
        "\n",
        "ab_nyc = pd.read_csv(input_file_1)\n",
        "airbnb_last_review = pd.read_csv(input_file_2)\n",
        "airbnb_room_type = pd.read_excel(input_file_3)"
      ],
      "metadata": {
        "id": "EurUzzyVCG5G"
      },
      "execution_count": 2,
      "outputs": []
    },
    {
      "cell_type": "code",
      "source": [
        "\"\"\"Вывод всех трех файлов\"\"\"\n",
        "\n",
        "print(ab_nyc)\n",
        "print(\"##################################\")\n",
        "print(airbnb_last_review)\n",
        "print(\"##################################\")\n",
        "print(airbnb_room_type)"
      ],
      "metadata": {
        "id": "2LKv1iqmEp5c"
      },
      "execution_count": null,
      "outputs": []
    },
    {
      "cell_type": "code",
      "source": [
        "\"\"\"Очистка данных в колонке цена\"\"\"\n",
        "\n",
        "# Загрузка данных из CSV файла\n",
        "input_file_path = '/content/AB_NYC_2019.csv'\n",
        "output_file_path = '/content/AB_NYC_2019_with_no_price.csv'\n",
        "\n",
        "# Чтение данных из CSV файла\n",
        "data = pd.read_csv(input_file_path)\n",
        "\n",
        "# Очистка данных в колонке \"Price\"\n",
        "data['price'] = None\n",
        "\n",
        "# Сохранение очищенных данных в новом файле\n",
        "data.to_csv(output_file_path, index=False)\n",
        "\n",
        "print(f\"Очищенный файл без колонки price сохранен по пути: {output_file_path}\")"
      ],
      "metadata": {
        "id": "q-cCypgtIi4C"
      },
      "execution_count": null,
      "outputs": []
    },
    {
      "cell_type": "code",
      "source": [
        "\"\"\"проверка!\"\"\"\n",
        "\n",
        "file_path = '/content/AB_NYC_2019_with_no_price.csv'\n",
        "check = pd.read_csv(file_path)\n",
        "print(check['price'])"
      ],
      "metadata": {
        "id": "lPsSpLVgMssW"
      },
      "execution_count": null,
      "outputs": []
    },
    {
      "cell_type": "code",
      "source": [
        "new_data = pd.read_csv(input_file_path) # Повторное чтение исходника для дальнейшей работы"
      ],
      "metadata": {
        "id": "PUj2t6e0UdUz"
      },
      "execution_count": null,
      "outputs": []
    },
    {
      "cell_type": "code",
      "source": [
        "\"\"\" Расчет средней цены \"\"\"\n",
        "avg_price = new_data['price'].mean() # подсчет среднего значения колонки\n",
        "print(\"Средняя цена: \", avg_price)"
      ],
      "metadata": {
        "colab": {
          "base_uri": "https://localhost:8080/"
        },
        "id": "zh0GhOLeTuw0",
        "outputId": "cbb8d2e7-7712-4fee-bbd7-775a0c6511a6"
      },
      "execution_count": null,
      "outputs": [
        {
          "output_type": "stream",
          "name": "stdout",
          "text": [
            "Средняя цена:  152.7206871868289\n"
          ]
        }
      ]
    },
    {
      "cell_type": "code",
      "source": [
        "\"\"\" Сравнение затрат на рынке аренды \"\"\"\n",
        "\n",
        "# Расчет математического ожидания и стандартного отклонения\n",
        "mean_price = new_data['price'].mean()\n",
        "std_dev_price = new_data['price'].std()\n",
        "\n",
        "# Расчет процента цен, укладывающихся в правило трех сигм\n",
        "\n",
        "within_3std = ((new_data['price'] >= mean_price - 3 * std_dev_price) & (new_data['price'] <= mean_price + 3 * std_dev_price)).mean() * 100\n",
        "\n",
        "print(f\"Математическое ожидание цен: ${mean_price:.2f}\") # .2f -  2 знака после запятой\n",
        "print(f\"Стандартное отклонение цен: ${std_dev_price:.2f}\")\n",
        "print(f\"Процент цен, укладывающихся в правило трех сигм: {within_3std:.2f}%\")\n",
        "\n",
        "# Настройка параметров гистограммы\n",
        "\n",
        "plt.xlabel('Цена')\n",
        "plt.ylabel('Частота')\n",
        "plt.xlim(0, 1000)\n",
        "plt.hist(new_data['price'], bins=2000, color='orange')\n",
        "plt.show()"
      ],
      "metadata": {
        "id": "ZDeB-_w9MMDq"
      },
      "execution_count": null,
      "outputs": []
    },
    {
      "cell_type": "code",
      "source": [
        "\"\"\" Очистка данных в колонке room type \"\"\"\n",
        "\n",
        "# Чтение данных из csv файла\n",
        "new_output_file_path = \"/content/AB_NYC_2019_with_no_room_type.csv\"\n",
        "roomType = pd.read_csv(input_file_path)\n",
        "\n",
        "# Очистка данных в нужной колонке\n",
        "roomType['room_type'] = None\n",
        "\n",
        "# Сохранение данных без содержимого колонки room_type в новый файл\n",
        "roomType.to_csv(new_output_file_path, index=False)\n",
        "print(f\"Очищенный файл без колонки room_type сохранен по пути: {new_output_file_path}\")"
      ],
      "metadata": {
        "id": "_vtKaxcxq4C6"
      },
      "execution_count": null,
      "outputs": []
    },
    {
      "cell_type": "code",
      "source": [
        "\"\"\" проверка \"\"\"\n",
        "new_check = pd.read_csv(new_output_file_path)\n",
        "print(new_check['room_type'])"
      ],
      "metadata": {
        "id": "iERGcD7SrFDX"
      },
      "execution_count": null,
      "outputs": []
    },
    {
      "cell_type": "code",
      "source": [
        "\"\"\" C какими сроками идет работа \"\"\"\n",
        "\n",
        "# Вывод информации по Last_review\n",
        "print(\"\\nИнформация по Last_review:\")\n",
        "print(ab_nyc['last_review'].describe(datetime_is_numeric=True))\n",
        "\n",
        "# Преобразование Last_review в datetime\n",
        "ab_nyc['last_review'] = pd.to_datetime(data['last_review'])\n",
        "# Преобразование в логарифмический формат для большей наглядности данных\n",
        "fig = px.histogram(ab_nyc['last_review'])\n",
        "fig.update_layout(\n",
        "    xaxis_title=\"Частота\",\n",
        "    yaxis_title=\"Дата\",\n",
        ")\n",
        "fig.update_yaxes(type=\"log\")\n",
        "fig.show()\n"
      ],
      "metadata": {
        "id": "3nkXPPlEH-XS"
      },
      "execution_count": null,
      "outputs": []
    },
    {
      "cell_type": "code",
      "source": [
        "# Вывод базовой информации по Minimum_nights\n",
        "print(\"Статистика по Minimum_nights:\")\n",
        "print(ab_nyc['minimum_nights'].describe())\n",
        "\n",
        "# Настройка гистограммы для минимального количества ночей\n",
        "fig = go.Figure()\n",
        "axis1 = fig.add_trace(go.Histogram(x=ab_nyc[ab_nyc['minimum_nights']<15]['minimum_nights'], name = 'minimum_nights < 15'))\n",
        "axis2 = fig.add_trace(go.Histogram(x=ab_nyc[(ab_nyc['minimum_nights']>15) & (ab_nyc['minimum_nights']<88)]['minimum_nights'], name = 'minimum_nights > 15'))\n",
        "fig.update_layout(xaxis_title=\"Минимальное количество дней\", yaxis_title = \"Частота\")\n",
        "fig.show()\n",
        "\n",
        "# ab_nyc[(ab_nyc['minimum_nights']>15)]['minimum_nights'].describe()"
      ],
      "metadata": {
        "id": "BlcP2G3IO-4A"
      },
      "execution_count": null,
      "outputs": []
    },
    {
      "cell_type": "code",
      "source": [
        "\"\"\" Объединение датафреймов \"\"\"\n",
        "\n",
        "# объединяем датафреймы airbnb_room_type и airbnb_last_review в один по колонке listing_id\n",
        "merged_one = pd.merge(airbnb_last_review, airbnb_room_type, on='listing_id', how='inner')"
      ],
      "metadata": {
        "id": "gy3VCbZXhkx5"
      },
      "execution_count": null,
      "outputs": []
    },
    {
      "cell_type": "code",
      "source": [
        "# объединяем уже соединенный фрейм с ab_nyc по колонке listing_id\n",
        "final_merge = pd.merge(merged_one, ab_nyc, left_on='listing_id', right_on='id', how='inner')"
      ],
      "metadata": {
        "id": "vf52OiN3NZO-"
      },
      "execution_count": null,
      "outputs": []
    },
    {
      "cell_type": "code",
      "source": [
        "merged_one"
      ],
      "metadata": {
        "id": "DErSo_iQMQQV"
      },
      "execution_count": null,
      "outputs": []
    },
    {
      "cell_type": "code",
      "source": [
        "final_merge"
      ],
      "metadata": {
        "id": "kZXUn-MYczGK"
      },
      "execution_count": null,
      "outputs": []
    },
    {
      "cell_type": "code",
      "source": [
        "final = final_merge.drop_duplicates(subset='id')"
      ],
      "metadata": {
        "id": "j_IYuY2VduIi"
      },
      "execution_count": null,
      "outputs": []
    },
    {
      "cell_type": "code",
      "source": [
        "print(final['listing_id'].equals(final_merge['listing_id']))"
      ],
      "metadata": {
        "id": "BLKDEuOJeE3v"
      },
      "execution_count": null,
      "outputs": []
    },
    {
      "cell_type": "code",
      "source": [
        "is_equal = ab_nyc['id'].equals(airbnb_room_type['listing_id'])\n",
        "print(is_equal)"
      ],
      "metadata": {
        "id": "ci_mfPwtZxi3"
      },
      "execution_count": null,
      "outputs": []
    },
    {
      "cell_type": "code",
      "source": [
        "ab_nyc"
      ],
      "metadata": {
        "id": "mUvryOxkLCof"
      },
      "execution_count": null,
      "outputs": []
    },
    {
      "cell_type": "code",
      "source": [
        "airbnb_room_type"
      ],
      "metadata": {
        "id": "5fmO7hpPQBXk"
      },
      "execution_count": null,
      "outputs": []
    },
    {
      "cell_type": "code",
      "source": [
        "\"\"\" Проанализируйте цены по различным районам \"\"\""
      ],
      "metadata": {
        "id": "kbOZJxjPKP2Z"
      },
      "execution_count": null,
      "outputs": []
    },
    {
      "cell_type": "code",
      "source": [
        "# Анализ цен по различным районам\n",
        "average_prices_by_neighbourhood = ab_nyc.groupby('neighbourhood')['price'].mean()\n",
        "\n",
        "# Ранжирование цен по районам\n",
        "ranked_prices_by_neighbourhood = average_prices_by_neighbourhood.sort_values()\n",
        "\n",
        "# Вывод результатов с названиями районов\n",
        "print(\"Средние цены по районам:\")\n",
        "for neighbourhood, average_price in average_prices_by_neighbourhood.items():\n",
        "    print(f\"{neighbourhood}: {average_price:.2f}\")\n",
        "\n",
        "print(\"\\nРанжирование цен по районам:\")\n",
        "for neighbourhood, average_price in ranked_prices_by_neighbourhood.items():\n",
        "    print(f\"{neighbourhood}: {average_price:.2f}\")\n"
      ],
      "metadata": {
        "id": "pdi_aWPdkJgJ"
      },
      "execution_count": null,
      "outputs": []
    },
    {
      "cell_type": "code",
      "source": [
        "ab_nyc"
      ],
      "metadata": {
        "id": "WTCRXze1kna5"
      },
      "execution_count": null,
      "outputs": []
    }
  ]
}