{
  "nbformat": 4,
  "nbformat_minor": 0,
  "metadata": {
    "colab": {
      "provenance": []
    },
    "kernelspec": {
      "name": "python3",
      "display_name": "Python 3"
    },
    "language_info": {
      "name": "python"
    }
  },
  "cells": [
    {
      "cell_type": "code",
      "execution_count": null,
      "metadata": {
        "id": "nM3Wu40M323G"
      },
      "outputs": [],
      "source": [
        "pip install pandas\n"
      ]
    },
    {
      "cell_type": "code",
      "source": [
        "pip install seaborn"
      ],
      "metadata": {
        "id": "XAxu0ba5JodC"
      },
      "execution_count": null,
      "outputs": []
    },
    {
      "cell_type": "code",
      "source": [
        "import pandas as pd\n",
        "import matplotlib.pyplot as plt\n",
        "import seaborn as sns\n",
        "from scipy.stats import norm\n",
        "import numpy as np\n",
        "# Импорт нужных библиотек:\n",
        "# pandas для работы с файлом,\n",
        "# matplotlib & seaborn для отрисовки графиков,\n",
        "# scipy.stats для проверки нормального распределения\n",
        "# numpy просто так вдруг понадобится\n"
      ],
      "metadata": {
        "id": "qyPjHgtk5x-p"
      },
      "execution_count": 69,
      "outputs": []
    },
    {
      "cell_type": "code",
      "source": [
        "\"\"\"Очистка данных в колонке цена\"\"\"\n",
        "\n",
        "# Загрузка данных из CSV файла\n",
        "input_file_path = '/content/AB_NYC_2019.csv'\n",
        "output_file_path = '/content/AB_NYC_2019_with_no_price.csv'\n",
        "\n",
        "# Чтение данных из CSV файла\n",
        "data = pd.read_csv(input_file_path)\n",
        "\n",
        "# Очистка данных в колонке \"Price\"\n",
        "data['price'] = None\n",
        "\n",
        "# Сохранение очищенных данных в новом файле\n",
        "data.to_csv(output_file_path, index=False)\n",
        "\n",
        "print(f\"Очищенный файл без колонки price сохранен по пути: {output_file_path}\")"
      ],
      "metadata": {
        "id": "q-cCypgtIi4C"
      },
      "execution_count": null,
      "outputs": []
    },
    {
      "cell_type": "code",
      "source": [
        "\"\"\"проверка!\"\"\"\n",
        "\n",
        "file_path = '/content/AB_NYC_2019_with_no_price.csv'\n",
        "check = pd.read_csv(file_path)\n",
        "print(check['price'])"
      ],
      "metadata": {
        "id": "lPsSpLVgMssW"
      },
      "execution_count": null,
      "outputs": []
    },
    {
      "cell_type": "code",
      "source": [
        "new_data = pd.read_csv(input_file_path) # Повторное чтение исходника для дальнейшей работы"
      ],
      "metadata": {
        "id": "PUj2t6e0UdUz"
      },
      "execution_count": 64,
      "outputs": []
    },
    {
      "cell_type": "code",
      "source": [
        "\"\"\" Расчет средней цены \"\"\"\n",
        "avg_price = new_data['price'].mean() # подсчет среднего значения колонки\n",
        "print(\"Средняя цена: \", avg_price)"
      ],
      "metadata": {
        "id": "zh0GhOLeTuw0"
      },
      "execution_count": null,
      "outputs": []
    },
    {
      "cell_type": "code",
      "source": [
        "\"\"\" Сравнение затрат на рынке аренды \"\"\"\n",
        "\n",
        "# Расчет математического ожидания и стандартного отклонения\n",
        "mean_price = new_data['price'].mean()\n",
        "std_dev_price = new_data['price'].std()\n",
        "\n",
        "# Расчет процента цен, укладывающихся в правило трех сигм\n",
        "\n",
        "within_3std = ((new_data['price'] >= mean_price - 3 * std_dev_price) & (new_data['price'] <= mean_price + 3 * std_dev_price)).mean() * 100\n",
        "\n",
        "print(f\"Математическое ожидание цен: ${mean_price:.2f}\") # .2f -  2 знака после запятой\n",
        "print(f\"Стандартное отклонение цен: ${std_dev_price:.2f}\")\n",
        "print(f\"Процент цен, укладывающихся в правило трех сигм: {within_3std:.2f}%\")\n",
        "\n",
        "# Настройка параметров гистограммы\n",
        "\n",
        "plt.xlabel('Цена')\n",
        "plt.ylabel('Частота')\n",
        "plt.xlim(0, 1000)\n",
        "plt.hist(new_data['price'], bins=2000, color='orange')\n",
        "plt.show()"
      ],
      "metadata": {
        "id": "ZDeB-_w9MMDq"
      },
      "execution_count": null,
      "outputs": []
    },
    {
      "cell_type": "code",
      "source": [
        "\"\"\" Очистка данных в колонке room type \"\"\"\n",
        "\n",
        "# Чтение данных из csv файла\n",
        "new_output_file_path = \"/content/AB_NYC_2019_with_no_room_type.csv\"\n",
        "roomType = pd.read_csv(input_file_path)\n",
        "\n",
        "# Очистка данных в нужной колонке\n",
        "roomType['room_type'] = None\n",
        "\n",
        "# Сохранение данных без содержимого колонки room_type в новый файл\n",
        "roomType.to_csv(new_output_file_path, index=False)\n",
        "print(f\"Очищенный файл без колонки room_type сохранен по пути: {new_output_file_path}\")"
      ],
      "metadata": {
        "colab": {
          "base_uri": "https://localhost:8080/"
        },
        "id": "_vtKaxcxq4C6",
        "outputId": "31ecf6e6-eca5-42b4-c682-0d867ee35fd4"
      },
      "execution_count": 77,
      "outputs": [
        {
          "output_type": "stream",
          "name": "stdout",
          "text": [
            "Очищенный файл без колонки room_type сохранен по пути: /content/AB_NYC_2019_with_no_room_type.csv\n"
          ]
        }
      ]
    },
    {
      "cell_type": "code",
      "source": [
        "\"\"\" проверка \"\"\"\n",
        "new_check = pd.read_csv(new_output_file_path)\n",
        "print(new_check['room_type'])"
      ],
      "metadata": {
        "colab": {
          "base_uri": "https://localhost:8080/"
        },
        "id": "iERGcD7SrFDX",
        "outputId": "a11c1a1d-194d-4188-cbeb-a7a5f4717760"
      },
      "execution_count": 78,
      "outputs": [
        {
          "output_type": "stream",
          "name": "stdout",
          "text": [
            "0       NaN\n",
            "1       NaN\n",
            "2       NaN\n",
            "3       NaN\n",
            "4       NaN\n",
            "         ..\n",
            "48890   NaN\n",
            "48891   NaN\n",
            "48892   NaN\n",
            "48893   NaN\n",
            "48894   NaN\n",
            "Name: room_type, Length: 48895, dtype: float64\n"
          ]
        }
      ]
    }
  ]
}